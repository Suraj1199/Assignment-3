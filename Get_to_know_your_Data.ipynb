{
  "nbformat": 4,
  "nbformat_minor": 0,
  "metadata": {
    "colab": {
      "name": "Get to know your Data.ipynb",
      "version": "0.3.2",
      "provenance": [],
      "include_colab_link": true
    },
    "kernelspec": {
      "name": "python3",
      "display_name": "Python 3"
    }
  },
  "cells": [
    {
      "cell_type": "markdown",
      "metadata": {
        "id": "view-in-github",
        "colab_type": "text"
      },
      "source": [
        "<a href=\"https://colab.research.google.com/github/Suraj1199/Assignment-3/blob/Suraj1199/Get_to_know_your_Data.ipynb\" target=\"_parent\"><img src=\"https://colab.research.google.com/assets/colab-badge.svg\" alt=\"Open In Colab\"/></a>"
      ]
    },
    {
      "metadata": {
        "id": "J82LU53m_OU0",
        "colab_type": "text"
      },
      "cell_type": "markdown",
      "source": [
        "# Get to know your Data\n",
        "\n",
        "\n",
        "#### Import necessary modules\n"
      ]
    },
    {
      "metadata": {
        "id": "ZyO1UXL8mtSj",
        "colab_type": "code",
        "colab": {}
      },
      "cell_type": "code",
      "source": [
        "import pandas as pd\n",
        "import numpy as np"
      ],
      "execution_count": 0,
      "outputs": []
    },
    {
      "metadata": {
        "id": "yXTzTowtnwGI",
        "colab_type": "text"
      },
      "cell_type": "markdown",
      "source": [
        "#### Loading CSV Data to a DataFrame\n",
        "\n",
        "\n",
        "\n"
      ]
    },
    {
      "metadata": {
        "id": "KE-k7b_Mn5iN",
        "colab_type": "text"
      },
      "cell_type": "markdown",
      "source": [
        "#### See the top 10 rows\n"
      ]
    },
    {
      "metadata": {
        "id": "H1Bjlb5wm9f-",
        "colab_type": "code",
        "colab": {}
      },
      "cell_type": "code",
      "source": [
        "iris_df = pd.read_csv('https://raw.githubusercontent.com/uiuc-cse/data-fa14/gh-pages/data/iris.csv')\n"
      ],
      "execution_count": 0,
      "outputs": []
    },
    {
      "metadata": {
        "id": "HY2Ps7xMn4ao",
        "colab_type": "code",
        "colab": {
          "base_uri": "https://localhost:8080/",
          "height": 363
        },
        "outputId": "0876a0af-9f0a-4c59-f916-810a24d3209b"
      },
      "cell_type": "code",
      "source": [
        "iris_df.head(10)"
      ],
      "execution_count": 45,
      "outputs": [
        {
          "output_type": "execute_result",
          "data": {
            "text/html": [
              "<div>\n",
              "<style scoped>\n",
              "    .dataframe tbody tr th:only-of-type {\n",
              "        vertical-align: middle;\n",
              "    }\n",
              "\n",
              "    .dataframe tbody tr th {\n",
              "        vertical-align: top;\n",
              "    }\n",
              "\n",
              "    .dataframe thead th {\n",
              "        text-align: right;\n",
              "    }\n",
              "</style>\n",
              "<table border=\"1\" class=\"dataframe\">\n",
              "  <thead>\n",
              "    <tr style=\"text-align: right;\">\n",
              "      <th></th>\n",
              "      <th>sepal_length</th>\n",
              "      <th>sepal_width</th>\n",
              "      <th>petal_length</th>\n",
              "      <th>petal_width</th>\n",
              "      <th>species</th>\n",
              "    </tr>\n",
              "  </thead>\n",
              "  <tbody>\n",
              "    <tr>\n",
              "      <th>0</th>\n",
              "      <td>5.1</td>\n",
              "      <td>3.5</td>\n",
              "      <td>1.4</td>\n",
              "      <td>0.2</td>\n",
              "      <td>setosa</td>\n",
              "    </tr>\n",
              "    <tr>\n",
              "      <th>1</th>\n",
              "      <td>4.9</td>\n",
              "      <td>3.0</td>\n",
              "      <td>1.4</td>\n",
              "      <td>0.2</td>\n",
              "      <td>setosa</td>\n",
              "    </tr>\n",
              "    <tr>\n",
              "      <th>2</th>\n",
              "      <td>4.7</td>\n",
              "      <td>3.2</td>\n",
              "      <td>1.3</td>\n",
              "      <td>0.2</td>\n",
              "      <td>setosa</td>\n",
              "    </tr>\n",
              "    <tr>\n",
              "      <th>3</th>\n",
              "      <td>4.6</td>\n",
              "      <td>3.1</td>\n",
              "      <td>1.5</td>\n",
              "      <td>0.2</td>\n",
              "      <td>setosa</td>\n",
              "    </tr>\n",
              "    <tr>\n",
              "      <th>4</th>\n",
              "      <td>5.0</td>\n",
              "      <td>3.6</td>\n",
              "      <td>1.4</td>\n",
              "      <td>0.2</td>\n",
              "      <td>setosa</td>\n",
              "    </tr>\n",
              "    <tr>\n",
              "      <th>5</th>\n",
              "      <td>5.4</td>\n",
              "      <td>3.9</td>\n",
              "      <td>1.7</td>\n",
              "      <td>0.4</td>\n",
              "      <td>setosa</td>\n",
              "    </tr>\n",
              "    <tr>\n",
              "      <th>6</th>\n",
              "      <td>4.6</td>\n",
              "      <td>3.4</td>\n",
              "      <td>1.4</td>\n",
              "      <td>0.3</td>\n",
              "      <td>setosa</td>\n",
              "    </tr>\n",
              "    <tr>\n",
              "      <th>7</th>\n",
              "      <td>5.0</td>\n",
              "      <td>3.4</td>\n",
              "      <td>1.5</td>\n",
              "      <td>0.2</td>\n",
              "      <td>setosa</td>\n",
              "    </tr>\n",
              "    <tr>\n",
              "      <th>8</th>\n",
              "      <td>4.4</td>\n",
              "      <td>2.9</td>\n",
              "      <td>1.4</td>\n",
              "      <td>0.2</td>\n",
              "      <td>setosa</td>\n",
              "    </tr>\n",
              "    <tr>\n",
              "      <th>9</th>\n",
              "      <td>4.9</td>\n",
              "      <td>3.1</td>\n",
              "      <td>1.5</td>\n",
              "      <td>0.1</td>\n",
              "      <td>setosa</td>\n",
              "    </tr>\n",
              "  </tbody>\n",
              "</table>\n",
              "</div>"
            ],
            "text/plain": [
              "   sepal_length  sepal_width  petal_length  petal_width species\n",
              "0           5.1          3.5           1.4          0.2  setosa\n",
              "1           4.9          3.0           1.4          0.2  setosa\n",
              "2           4.7          3.2           1.3          0.2  setosa\n",
              "3           4.6          3.1           1.5          0.2  setosa\n",
              "4           5.0          3.6           1.4          0.2  setosa\n",
              "5           5.4          3.9           1.7          0.4  setosa\n",
              "6           4.6          3.4           1.4          0.3  setosa\n",
              "7           5.0          3.4           1.5          0.2  setosa\n",
              "8           4.4          2.9           1.4          0.2  setosa\n",
              "9           4.9          3.1           1.5          0.1  setosa"
            ]
          },
          "metadata": {
            "tags": []
          },
          "execution_count": 45
        }
      ]
    },
    {
      "metadata": {
        "id": "ZQXekIodqOZu",
        "colab_type": "text"
      },
      "cell_type": "markdown",
      "source": [
        "#### Find number of rows and columns\n"
      ]
    },
    {
      "metadata": {
        "id": "6Y-A-lbFqR82",
        "colab_type": "code",
        "colab": {
          "base_uri": "https://localhost:8080/",
          "height": 72
        },
        "outputId": "9a3c3680-8072-49d8-d74c-b68db358b0b8"
      },
      "cell_type": "code",
      "source": [
        "print(iris_df.shape)\n",
        "\n",
        "#first is row and second is column\n",
        "#select row by simple indexing\n",
        "\n",
        "print(iris_df.shape[0]) #no .of rows\n",
        "print(iris_df.shape[1]) #no. of columns"
      ],
      "execution_count": 46,
      "outputs": [
        {
          "output_type": "stream",
          "text": [
            "(150, 5)\n",
            "150\n",
            "5\n"
          ],
          "name": "stdout"
        }
      ]
    },
    {
      "metadata": {
        "id": "4ckCiGPhrC_t",
        "colab_type": "text"
      },
      "cell_type": "markdown",
      "source": [
        "#### Print all columns"
      ]
    },
    {
      "metadata": {
        "id": "S6jgMyRDrF2a",
        "colab_type": "code",
        "colab": {
          "base_uri": "https://localhost:8080/",
          "height": 72
        },
        "outputId": "c87538e5-8bca-4df7-8f51-6c069ba7fa12"
      },
      "cell_type": "code",
      "source": [
        "print(iris_df.columns) #prints the headings of all the columns"
      ],
      "execution_count": 47,
      "outputs": [
        {
          "output_type": "stream",
          "text": [
            "Index(['sepal_length', 'sepal_width', 'petal_length', 'petal_width',\n",
            "       'species'],\n",
            "      dtype='object')\n"
          ],
          "name": "stdout"
        }
      ]
    },
    {
      "metadata": {
        "id": "kVav5-ACtIqS",
        "colab_type": "text"
      },
      "cell_type": "markdown",
      "source": [
        "#### Check Index\n"
      ]
    },
    {
      "metadata": {
        "id": "iu3I9zIGtLDX",
        "colab_type": "code",
        "colab": {
          "base_uri": "https://localhost:8080/",
          "height": 35
        },
        "outputId": "3b245586-0894-4ba4-d06d-6dc2c9c5d185"
      },
      "cell_type": "code",
      "source": [
        "print(iris_df.index) "
      ],
      "execution_count": 48,
      "outputs": [
        {
          "output_type": "stream",
          "text": [
            "RangeIndex(start=0, stop=150, step=1)\n"
          ],
          "name": "stdout"
        }
      ]
    },
    {
      "metadata": {
        "id": "psCc7PborOCQ",
        "colab_type": "text"
      },
      "cell_type": "markdown",
      "source": [
        "#### Right now the iris_data set has all the species grouped together let's shuffle it"
      ]
    },
    {
      "metadata": {
        "id": "Bxc8i6avrZPw",
        "colab_type": "code",
        "colab": {
          "base_uri": "https://localhost:8080/",
          "height": 421
        },
        "outputId": "0cb8e6a7-3fad-45b8-9663-2aa0d9731281"
      },
      "cell_type": "code",
      "source": [
        "#generate a random permutaion on index\n",
        "\n",
        "print(iris_df.head(10)) #first 10 unshuffled dataframe\n",
        "\n",
        "new_index = np.random.permutation(iris_df.index) \n",
        "iris_df = iris_df.reindex(index = new_index)\n",
        "\n",
        "print(iris_df.head(10)) #shuffled dataframe"
      ],
      "execution_count": 49,
      "outputs": [
        {
          "output_type": "stream",
          "text": [
            "   sepal_length  sepal_width  petal_length  petal_width species\n",
            "0           5.1          3.5           1.4          0.2  setosa\n",
            "1           4.9          3.0           1.4          0.2  setosa\n",
            "2           4.7          3.2           1.3          0.2  setosa\n",
            "3           4.6          3.1           1.5          0.2  setosa\n",
            "4           5.0          3.6           1.4          0.2  setosa\n",
            "5           5.4          3.9           1.7          0.4  setosa\n",
            "6           4.6          3.4           1.4          0.3  setosa\n",
            "7           5.0          3.4           1.5          0.2  setosa\n",
            "8           4.4          2.9           1.4          0.2  setosa\n",
            "9           4.9          3.1           1.5          0.1  setosa\n",
            "     sepal_length  sepal_width  petal_length  petal_width     species\n",
            "48            5.3          3.7           1.5          0.2      setosa\n",
            "100           6.3          3.3           6.0          2.5   virginica\n",
            "43            5.0          3.5           1.6          0.6      setosa\n",
            "98            5.1          2.5           3.0          1.1  versicolor\n",
            "117           7.7          3.8           6.7          2.2   virginica\n",
            "9             4.9          3.1           1.5          0.1      setosa\n",
            "41            4.5          2.3           1.3          0.3      setosa\n",
            "143           6.8          3.2           5.9          2.3   virginica\n",
            "70            5.9          3.2           4.8          1.8  versicolor\n",
            "140           6.7          3.1           5.6          2.4   virginica\n"
          ],
          "name": "stdout"
        }
      ]
    },
    {
      "metadata": {
        "id": "j32h8022sRT8",
        "colab_type": "text"
      },
      "cell_type": "markdown",
      "source": [
        "#### We can also apply an operation on whole column of iris_df"
      ]
    },
    {
      "metadata": {
        "id": "seYXHXsYsYJI",
        "colab_type": "code",
        "colab": {
          "base_uri": "https://localhost:8080/",
          "height": 531
        },
        "outputId": "89ab4628-fd7a-4941-e963-7b39a562b597"
      },
      "cell_type": "code",
      "source": [
        "#original\n",
        "\n",
        "print(iris_df.head(10))\n",
        "\n",
        "iris_df['sepal_width'] *= 10\n",
        "\n",
        "#changed\n",
        "\n",
        "print(iris_df.head())\n",
        "\n",
        "#lets undo the operation\n",
        "\n",
        "iris_df['sepal_width'] /= 10\n",
        "\n",
        "print(iris_df.head(10))"
      ],
      "execution_count": 50,
      "outputs": [
        {
          "output_type": "stream",
          "text": [
            "     sepal_length  sepal_width  petal_length  petal_width     species\n",
            "48            5.3          3.7           1.5          0.2      setosa\n",
            "100           6.3          3.3           6.0          2.5   virginica\n",
            "43            5.0          3.5           1.6          0.6      setosa\n",
            "98            5.1          2.5           3.0          1.1  versicolor\n",
            "117           7.7          3.8           6.7          2.2   virginica\n",
            "9             4.9          3.1           1.5          0.1      setosa\n",
            "41            4.5          2.3           1.3          0.3      setosa\n",
            "143           6.8          3.2           5.9          2.3   virginica\n",
            "70            5.9          3.2           4.8          1.8  versicolor\n",
            "140           6.7          3.1           5.6          2.4   virginica\n",
            "     sepal_length  sepal_width  petal_length  petal_width     species\n",
            "48            5.3         37.0           1.5          0.2      setosa\n",
            "100           6.3         33.0           6.0          2.5   virginica\n",
            "43            5.0         35.0           1.6          0.6      setosa\n",
            "98            5.1         25.0           3.0          1.1  versicolor\n",
            "117           7.7         38.0           6.7          2.2   virginica\n",
            "     sepal_length  sepal_width  petal_length  petal_width     species\n",
            "48            5.3          3.7           1.5          0.2      setosa\n",
            "100           6.3          3.3           6.0          2.5   virginica\n",
            "43            5.0          3.5           1.6          0.6      setosa\n",
            "98            5.1          2.5           3.0          1.1  versicolor\n",
            "117           7.7          3.8           6.7          2.2   virginica\n",
            "9             4.9          3.1           1.5          0.1      setosa\n",
            "41            4.5          2.3           1.3          0.3      setosa\n",
            "143           6.8          3.2           5.9          2.3   virginica\n",
            "70            5.9          3.2           4.8          1.8  versicolor\n",
            "140           6.7          3.1           5.6          2.4   virginica\n"
          ],
          "name": "stdout"
        }
      ]
    },
    {
      "metadata": {
        "id": "R-Ca-LBLzjiF",
        "colab_type": "text"
      },
      "cell_type": "markdown",
      "source": [
        "#### Show all the rows where sepal_width > 3.3"
      ]
    },
    {
      "metadata": {
        "id": "WJ7W-F-d0AoZ",
        "colab_type": "code",
        "colab": {
          "base_uri": "https://localhost:8080/",
          "height": 175
        },
        "outputId": "6da1396e-f2a8-47cf-b708-12c1880ca80f"
      },
      "cell_type": "code",
      "source": [
        "iris_df[iris_df['sepal_width']>3.9]"
      ],
      "execution_count": 51,
      "outputs": [
        {
          "output_type": "execute_result",
          "data": {
            "text/html": [
              "<div>\n",
              "<style scoped>\n",
              "    .dataframe tbody tr th:only-of-type {\n",
              "        vertical-align: middle;\n",
              "    }\n",
              "\n",
              "    .dataframe tbody tr th {\n",
              "        vertical-align: top;\n",
              "    }\n",
              "\n",
              "    .dataframe thead th {\n",
              "        text-align: right;\n",
              "    }\n",
              "</style>\n",
              "<table border=\"1\" class=\"dataframe\">\n",
              "  <thead>\n",
              "    <tr style=\"text-align: right;\">\n",
              "      <th></th>\n",
              "      <th>sepal_length</th>\n",
              "      <th>sepal_width</th>\n",
              "      <th>petal_length</th>\n",
              "      <th>petal_width</th>\n",
              "      <th>species</th>\n",
              "    </tr>\n",
              "  </thead>\n",
              "  <tbody>\n",
              "    <tr>\n",
              "      <th>32</th>\n",
              "      <td>5.2</td>\n",
              "      <td>4.1</td>\n",
              "      <td>1.5</td>\n",
              "      <td>0.1</td>\n",
              "      <td>setosa</td>\n",
              "    </tr>\n",
              "    <tr>\n",
              "      <th>15</th>\n",
              "      <td>5.7</td>\n",
              "      <td>4.4</td>\n",
              "      <td>1.5</td>\n",
              "      <td>0.4</td>\n",
              "      <td>setosa</td>\n",
              "    </tr>\n",
              "    <tr>\n",
              "      <th>14</th>\n",
              "      <td>5.8</td>\n",
              "      <td>4.0</td>\n",
              "      <td>1.2</td>\n",
              "      <td>0.2</td>\n",
              "      <td>setosa</td>\n",
              "    </tr>\n",
              "    <tr>\n",
              "      <th>33</th>\n",
              "      <td>5.5</td>\n",
              "      <td>4.2</td>\n",
              "      <td>1.4</td>\n",
              "      <td>0.2</td>\n",
              "      <td>setosa</td>\n",
              "    </tr>\n",
              "  </tbody>\n",
              "</table>\n",
              "</div>"
            ],
            "text/plain": [
              "    sepal_length  sepal_width  petal_length  petal_width species\n",
              "32           5.2          4.1           1.5          0.1  setosa\n",
              "15           5.7          4.4           1.5          0.4  setosa\n",
              "14           5.8          4.0           1.2          0.2  setosa\n",
              "33           5.5          4.2           1.4          0.2  setosa"
            ]
          },
          "metadata": {
            "tags": []
          },
          "execution_count": 51
        }
      ]
    },
    {
      "metadata": {
        "id": "gH3DnhCq2Cbl",
        "colab_type": "text"
      },
      "cell_type": "markdown",
      "source": [
        "#### Club two filters together - Find all samples where sepal_width > 3.3 and species is versicolor"
      ]
    },
    {
      "metadata": {
        "id": "4U7ksr_R2H7M",
        "colab_type": "code",
        "colab": {
          "base_uri": "https://localhost:8080/",
          "height": 81
        },
        "outputId": "0204ada9-6492-4801-8f16-e0b39f54aa67"
      },
      "cell_type": "code",
      "source": [
        "iris_df[(iris_df['sepal_width']>3.3) & (iris_df['species'] == 'versicolor')] "
      ],
      "execution_count": 52,
      "outputs": [
        {
          "output_type": "execute_result",
          "data": {
            "text/html": [
              "<div>\n",
              "<style scoped>\n",
              "    .dataframe tbody tr th:only-of-type {\n",
              "        vertical-align: middle;\n",
              "    }\n",
              "\n",
              "    .dataframe tbody tr th {\n",
              "        vertical-align: top;\n",
              "    }\n",
              "\n",
              "    .dataframe thead th {\n",
              "        text-align: right;\n",
              "    }\n",
              "</style>\n",
              "<table border=\"1\" class=\"dataframe\">\n",
              "  <thead>\n",
              "    <tr style=\"text-align: right;\">\n",
              "      <th></th>\n",
              "      <th>sepal_length</th>\n",
              "      <th>sepal_width</th>\n",
              "      <th>petal_length</th>\n",
              "      <th>petal_width</th>\n",
              "      <th>species</th>\n",
              "    </tr>\n",
              "  </thead>\n",
              "  <tbody>\n",
              "    <tr>\n",
              "      <th>85</th>\n",
              "      <td>6.0</td>\n",
              "      <td>3.4</td>\n",
              "      <td>4.5</td>\n",
              "      <td>1.6</td>\n",
              "      <td>versicolor</td>\n",
              "    </tr>\n",
              "  </tbody>\n",
              "</table>\n",
              "</div>"
            ],
            "text/plain": [
              "    sepal_length  sepal_width  petal_length  petal_width     species\n",
              "85           6.0          3.4           4.5          1.6  versicolor"
            ]
          },
          "metadata": {
            "tags": []
          },
          "execution_count": 52
        }
      ]
    },
    {
      "metadata": {
        "id": "1lmnB3ot2u7I",
        "colab_type": "text"
      },
      "cell_type": "markdown",
      "source": [
        "#### Sorting a column by value"
      ]
    },
    {
      "metadata": {
        "id": "K7KIj6fv2zWP",
        "colab_type": "code",
        "colab": {
          "base_uri": "https://localhost:8080/",
          "height": 1192
        },
        "outputId": "2a9d1af3-d7ad-44f0-9c5b-8051c89e6f0f"
      },
      "cell_type": "code",
      "source": [
        "iris_df.sort_values(by='sepal_width'),#ascending = False)\n",
        "#pass ascending = False for descending order"
      ],
      "execution_count": 53,
      "outputs": [
        {
          "output_type": "execute_result",
          "data": {
            "text/plain": [
              "(     sepal_length  sepal_width  petal_length  petal_width     species\n",
              " 60            5.0          2.0           3.5          1.0  versicolor\n",
              " 119           6.0          2.2           5.0          1.5   virginica\n",
              " 62            6.0          2.2           4.0          1.0  versicolor\n",
              " 68            6.2          2.2           4.5          1.5  versicolor\n",
              " 41            4.5          2.3           1.3          0.3      setosa\n",
              " 93            5.0          2.3           3.3          1.0  versicolor\n",
              " 87            6.3          2.3           4.4          1.3  versicolor\n",
              " 53            5.5          2.3           4.0          1.3  versicolor\n",
              " 81            5.5          2.4           3.7          1.0  versicolor\n",
              " 80            5.5          2.4           3.8          1.1  versicolor\n",
              " 57            4.9          2.4           3.3          1.0  versicolor\n",
              " 108           6.7          2.5           5.8          1.8   virginica\n",
              " 146           6.3          2.5           5.0          1.9   virginica\n",
              " 89            5.5          2.5           4.0          1.3  versicolor\n",
              " 72            6.3          2.5           4.9          1.5  versicolor\n",
              " 106           4.9          2.5           4.5          1.7   virginica\n",
              " 113           5.7          2.5           5.0          2.0   virginica\n",
              " 98            5.1          2.5           3.0          1.1  versicolor\n",
              " 69            5.6          2.5           3.9          1.1  versicolor\n",
              " 79            5.7          2.6           3.5          1.0  versicolor\n",
              " 118           7.7          2.6           6.9          2.3   virginica\n",
              " 134           6.1          2.6           5.6          1.4   virginica\n",
              " 92            5.8          2.6           4.0          1.2  versicolor\n",
              " 90            5.5          2.6           4.4          1.2  versicolor\n",
              " 83            6.0          2.7           5.1          1.6  versicolor\n",
              " 82            5.8          2.7           3.9          1.2  versicolor\n",
              " 111           6.4          2.7           5.3          1.9   virginica\n",
              " 67            5.8          2.7           4.1          1.0  versicolor\n",
              " 59            5.2          2.7           3.9          1.4  versicolor\n",
              " 123           6.3          2.7           4.9          1.8   virginica\n",
              " ..            ...          ...           ...          ...         ...\n",
              " 20            5.4          3.4           1.7          0.2      setosa\n",
              " 31            5.4          3.4           1.5          0.4      setosa\n",
              " 28            5.2          3.4           1.4          0.2      setosa\n",
              " 11            4.8          3.4           1.6          0.2      setosa\n",
              " 26            5.0          3.4           1.6          0.4      setosa\n",
              " 39            5.1          3.4           1.5          0.2      setosa\n",
              " 27            5.2          3.5           1.5          0.2      setosa\n",
              " 0             5.1          3.5           1.4          0.2      setosa\n",
              " 40            5.0          3.5           1.3          0.3      setosa\n",
              " 17            5.1          3.5           1.4          0.3      setosa\n",
              " 43            5.0          3.5           1.6          0.6      setosa\n",
              " 36            5.5          3.5           1.3          0.2      setosa\n",
              " 22            4.6          3.6           1.0          0.2      setosa\n",
              " 109           7.2          3.6           6.1          2.5   virginica\n",
              " 4             5.0          3.6           1.4          0.2      setosa\n",
              " 48            5.3          3.7           1.5          0.2      setosa\n",
              " 10            5.4          3.7           1.5          0.2      setosa\n",
              " 21            5.1          3.7           1.5          0.4      setosa\n",
              " 44            5.1          3.8           1.9          0.4      setosa\n",
              " 18            5.7          3.8           1.7          0.3      setosa\n",
              " 19            5.1          3.8           1.5          0.3      setosa\n",
              " 131           7.9          3.8           6.4          2.0   virginica\n",
              " 117           7.7          3.8           6.7          2.2   virginica\n",
              " 46            5.1          3.8           1.6          0.2      setosa\n",
              " 5             5.4          3.9           1.7          0.4      setosa\n",
              " 16            5.4          3.9           1.3          0.4      setosa\n",
              " 14            5.8          4.0           1.2          0.2      setosa\n",
              " 32            5.2          4.1           1.5          0.1      setosa\n",
              " 33            5.5          4.2           1.4          0.2      setosa\n",
              " 15            5.7          4.4           1.5          0.4      setosa\n",
              " \n",
              " [150 rows x 5 columns],)"
            ]
          },
          "metadata": {
            "tags": []
          },
          "execution_count": 53
        }
      ]
    },
    {
      "metadata": {
        "id": "9jg_Z4YCoMSV",
        "colab_type": "text"
      },
      "cell_type": "markdown",
      "source": [
        "#### List all the unique species"
      ]
    },
    {
      "metadata": {
        "id": "M6EN78ufoJY7",
        "colab_type": "code",
        "colab": {
          "base_uri": "https://localhost:8080/",
          "height": 35
        },
        "outputId": "4bb4faef-4cf6-416a-ebac-eb311a4b2b22"
      },
      "cell_type": "code",
      "source": [
        "species = iris_df['species'].unique()\n",
        "\n",
        "print(species)"
      ],
      "execution_count": 54,
      "outputs": [
        {
          "output_type": "stream",
          "text": [
            "['setosa' 'virginica' 'versicolor']\n"
          ],
          "name": "stdout"
        }
      ]
    },
    {
      "metadata": {
        "id": "wG1i5nxBodmB",
        "colab_type": "text"
      },
      "cell_type": "markdown",
      "source": [
        "#### Selecting a particular species using boolean mask (learnt in previous exercise)"
      ]
    },
    {
      "metadata": {
        "id": "gZvpbKBwoVUe",
        "colab_type": "code",
        "colab": {
          "base_uri": "https://localhost:8080/",
          "height": 206
        },
        "outputId": "ff2916ca-8c6b-4ccb-c31b-d645d1ebaac8"
      },
      "cell_type": "code",
      "source": [
        "setosa = iris_df[iris_df['species'] == species[2]]\n",
        "\n",
        "setosa.head()"
      ],
      "execution_count": 55,
      "outputs": [
        {
          "output_type": "execute_result",
          "data": {
            "text/html": [
              "<div>\n",
              "<style scoped>\n",
              "    .dataframe tbody tr th:only-of-type {\n",
              "        vertical-align: middle;\n",
              "    }\n",
              "\n",
              "    .dataframe tbody tr th {\n",
              "        vertical-align: top;\n",
              "    }\n",
              "\n",
              "    .dataframe thead th {\n",
              "        text-align: right;\n",
              "    }\n",
              "</style>\n",
              "<table border=\"1\" class=\"dataframe\">\n",
              "  <thead>\n",
              "    <tr style=\"text-align: right;\">\n",
              "      <th></th>\n",
              "      <th>sepal_length</th>\n",
              "      <th>sepal_width</th>\n",
              "      <th>petal_length</th>\n",
              "      <th>petal_width</th>\n",
              "      <th>species</th>\n",
              "    </tr>\n",
              "  </thead>\n",
              "  <tbody>\n",
              "    <tr>\n",
              "      <th>98</th>\n",
              "      <td>5.1</td>\n",
              "      <td>2.5</td>\n",
              "      <td>3.0</td>\n",
              "      <td>1.1</td>\n",
              "      <td>versicolor</td>\n",
              "    </tr>\n",
              "    <tr>\n",
              "      <th>70</th>\n",
              "      <td>5.9</td>\n",
              "      <td>3.2</td>\n",
              "      <td>4.8</td>\n",
              "      <td>1.8</td>\n",
              "      <td>versicolor</td>\n",
              "    </tr>\n",
              "    <tr>\n",
              "      <th>83</th>\n",
              "      <td>6.0</td>\n",
              "      <td>2.7</td>\n",
              "      <td>5.1</td>\n",
              "      <td>1.6</td>\n",
              "      <td>versicolor</td>\n",
              "    </tr>\n",
              "    <tr>\n",
              "      <th>61</th>\n",
              "      <td>5.9</td>\n",
              "      <td>3.0</td>\n",
              "      <td>4.2</td>\n",
              "      <td>1.5</td>\n",
              "      <td>versicolor</td>\n",
              "    </tr>\n",
              "    <tr>\n",
              "      <th>99</th>\n",
              "      <td>5.7</td>\n",
              "      <td>2.8</td>\n",
              "      <td>4.1</td>\n",
              "      <td>1.3</td>\n",
              "      <td>versicolor</td>\n",
              "    </tr>\n",
              "  </tbody>\n",
              "</table>\n",
              "</div>"
            ],
            "text/plain": [
              "    sepal_length  sepal_width  petal_length  petal_width     species\n",
              "98           5.1          2.5           3.0          1.1  versicolor\n",
              "70           5.9          3.2           4.8          1.8  versicolor\n",
              "83           6.0          2.7           5.1          1.6  versicolor\n",
              "61           5.9          3.0           4.2          1.5  versicolor\n",
              "99           5.7          2.8           4.1          1.3  versicolor"
            ]
          },
          "metadata": {
            "tags": []
          },
          "execution_count": 55
        }
      ]
    },
    {
      "metadata": {
        "id": "7tumfZ3DotPG",
        "colab_type": "code",
        "colab": {
          "base_uri": "https://localhost:8080/",
          "height": 206
        },
        "outputId": "71c33343-f8e8-497f-e7e5-4d8c33d0b14b"
      },
      "cell_type": "code",
      "source": [
        "# do the same for other 2 species \n",
        "versicolor = iris_df[iris_df['species'] == species[0]]\n",
        "\n",
        "versicolor.head()"
      ],
      "execution_count": 56,
      "outputs": [
        {
          "output_type": "execute_result",
          "data": {
            "text/html": [
              "<div>\n",
              "<style scoped>\n",
              "    .dataframe tbody tr th:only-of-type {\n",
              "        vertical-align: middle;\n",
              "    }\n",
              "\n",
              "    .dataframe tbody tr th {\n",
              "        vertical-align: top;\n",
              "    }\n",
              "\n",
              "    .dataframe thead th {\n",
              "        text-align: right;\n",
              "    }\n",
              "</style>\n",
              "<table border=\"1\" class=\"dataframe\">\n",
              "  <thead>\n",
              "    <tr style=\"text-align: right;\">\n",
              "      <th></th>\n",
              "      <th>sepal_length</th>\n",
              "      <th>sepal_width</th>\n",
              "      <th>petal_length</th>\n",
              "      <th>petal_width</th>\n",
              "      <th>species</th>\n",
              "    </tr>\n",
              "  </thead>\n",
              "  <tbody>\n",
              "    <tr>\n",
              "      <th>48</th>\n",
              "      <td>5.3</td>\n",
              "      <td>3.7</td>\n",
              "      <td>1.5</td>\n",
              "      <td>0.2</td>\n",
              "      <td>setosa</td>\n",
              "    </tr>\n",
              "    <tr>\n",
              "      <th>43</th>\n",
              "      <td>5.0</td>\n",
              "      <td>3.5</td>\n",
              "      <td>1.6</td>\n",
              "      <td>0.6</td>\n",
              "      <td>setosa</td>\n",
              "    </tr>\n",
              "    <tr>\n",
              "      <th>9</th>\n",
              "      <td>4.9</td>\n",
              "      <td>3.1</td>\n",
              "      <td>1.5</td>\n",
              "      <td>0.1</td>\n",
              "      <td>setosa</td>\n",
              "    </tr>\n",
              "    <tr>\n",
              "      <th>41</th>\n",
              "      <td>4.5</td>\n",
              "      <td>2.3</td>\n",
              "      <td>1.3</td>\n",
              "      <td>0.3</td>\n",
              "      <td>setosa</td>\n",
              "    </tr>\n",
              "    <tr>\n",
              "      <th>10</th>\n",
              "      <td>5.4</td>\n",
              "      <td>3.7</td>\n",
              "      <td>1.5</td>\n",
              "      <td>0.2</td>\n",
              "      <td>setosa</td>\n",
              "    </tr>\n",
              "  </tbody>\n",
              "</table>\n",
              "</div>"
            ],
            "text/plain": [
              "    sepal_length  sepal_width  petal_length  petal_width species\n",
              "48           5.3          3.7           1.5          0.2  setosa\n",
              "43           5.0          3.5           1.6          0.6  setosa\n",
              "9            4.9          3.1           1.5          0.1  setosa\n",
              "41           4.5          2.3           1.3          0.3  setosa\n",
              "10           5.4          3.7           1.5          0.2  setosa"
            ]
          },
          "metadata": {
            "tags": []
          },
          "execution_count": 56
        }
      ]
    },
    {
      "metadata": {
        "id": "cUYm5UqVpDPy",
        "colab_type": "code",
        "colab": {
          "base_uri": "https://localhost:8080/",
          "height": 206
        },
        "outputId": "b3e4052a-5f8f-4b7f-f51c-544078bb2b44"
      },
      "cell_type": "code",
      "source": [
        "\n",
        "\n",
        "virginica = iris_df[iris_df['species'] == species[1]]\n",
        "\n",
        "virginica.head()"
      ],
      "execution_count": 57,
      "outputs": [
        {
          "output_type": "execute_result",
          "data": {
            "text/html": [
              "<div>\n",
              "<style scoped>\n",
              "    .dataframe tbody tr th:only-of-type {\n",
              "        vertical-align: middle;\n",
              "    }\n",
              "\n",
              "    .dataframe tbody tr th {\n",
              "        vertical-align: top;\n",
              "    }\n",
              "\n",
              "    .dataframe thead th {\n",
              "        text-align: right;\n",
              "    }\n",
              "</style>\n",
              "<table border=\"1\" class=\"dataframe\">\n",
              "  <thead>\n",
              "    <tr style=\"text-align: right;\">\n",
              "      <th></th>\n",
              "      <th>sepal_length</th>\n",
              "      <th>sepal_width</th>\n",
              "      <th>petal_length</th>\n",
              "      <th>petal_width</th>\n",
              "      <th>species</th>\n",
              "    </tr>\n",
              "  </thead>\n",
              "  <tbody>\n",
              "    <tr>\n",
              "      <th>100</th>\n",
              "      <td>6.3</td>\n",
              "      <td>3.3</td>\n",
              "      <td>6.0</td>\n",
              "      <td>2.5</td>\n",
              "      <td>virginica</td>\n",
              "    </tr>\n",
              "    <tr>\n",
              "      <th>117</th>\n",
              "      <td>7.7</td>\n",
              "      <td>3.8</td>\n",
              "      <td>6.7</td>\n",
              "      <td>2.2</td>\n",
              "      <td>virginica</td>\n",
              "    </tr>\n",
              "    <tr>\n",
              "      <th>143</th>\n",
              "      <td>6.8</td>\n",
              "      <td>3.2</td>\n",
              "      <td>5.9</td>\n",
              "      <td>2.3</td>\n",
              "      <td>virginica</td>\n",
              "    </tr>\n",
              "    <tr>\n",
              "      <th>140</th>\n",
              "      <td>6.7</td>\n",
              "      <td>3.1</td>\n",
              "      <td>5.6</td>\n",
              "      <td>2.4</td>\n",
              "      <td>virginica</td>\n",
              "    </tr>\n",
              "    <tr>\n",
              "      <th>147</th>\n",
              "      <td>6.5</td>\n",
              "      <td>3.0</td>\n",
              "      <td>5.2</td>\n",
              "      <td>2.0</td>\n",
              "      <td>virginica</td>\n",
              "    </tr>\n",
              "  </tbody>\n",
              "</table>\n",
              "</div>"
            ],
            "text/plain": [
              "     sepal_length  sepal_width  petal_length  petal_width    species\n",
              "100           6.3          3.3           6.0          2.5  virginica\n",
              "117           7.7          3.8           6.7          2.2  virginica\n",
              "143           6.8          3.2           5.9          2.3  virginica\n",
              "140           6.7          3.1           5.6          2.4  virginica\n",
              "147           6.5          3.0           5.2          2.0  virginica"
            ]
          },
          "metadata": {
            "tags": []
          },
          "execution_count": 57
        }
      ]
    },
    {
      "metadata": {
        "id": "-y1wDc8SpdQs",
        "colab_type": "text"
      },
      "cell_type": "markdown",
      "source": [
        "#### Describe each created species to see the difference\n",
        "\n"
      ]
    },
    {
      "metadata": {
        "id": "eHrn3ZVRpOk5",
        "colab_type": "code",
        "colab": {
          "base_uri": "https://localhost:8080/",
          "height": 300
        },
        "outputId": "28014778-cbc9-458b-9f80-4f7924d327d4"
      },
      "cell_type": "code",
      "source": [
        "setosa.describe()"
      ],
      "execution_count": 58,
      "outputs": [
        {
          "output_type": "execute_result",
          "data": {
            "text/html": [
              "<div>\n",
              "<style scoped>\n",
              "    .dataframe tbody tr th:only-of-type {\n",
              "        vertical-align: middle;\n",
              "    }\n",
              "\n",
              "    .dataframe tbody tr th {\n",
              "        vertical-align: top;\n",
              "    }\n",
              "\n",
              "    .dataframe thead th {\n",
              "        text-align: right;\n",
              "    }\n",
              "</style>\n",
              "<table border=\"1\" class=\"dataframe\">\n",
              "  <thead>\n",
              "    <tr style=\"text-align: right;\">\n",
              "      <th></th>\n",
              "      <th>sepal_length</th>\n",
              "      <th>sepal_width</th>\n",
              "      <th>petal_length</th>\n",
              "      <th>petal_width</th>\n",
              "    </tr>\n",
              "  </thead>\n",
              "  <tbody>\n",
              "    <tr>\n",
              "      <th>count</th>\n",
              "      <td>50.000000</td>\n",
              "      <td>50.000000</td>\n",
              "      <td>50.000000</td>\n",
              "      <td>50.000000</td>\n",
              "    </tr>\n",
              "    <tr>\n",
              "      <th>mean</th>\n",
              "      <td>5.936000</td>\n",
              "      <td>2.770000</td>\n",
              "      <td>4.260000</td>\n",
              "      <td>1.326000</td>\n",
              "    </tr>\n",
              "    <tr>\n",
              "      <th>std</th>\n",
              "      <td>0.516171</td>\n",
              "      <td>0.313798</td>\n",
              "      <td>0.469911</td>\n",
              "      <td>0.197753</td>\n",
              "    </tr>\n",
              "    <tr>\n",
              "      <th>min</th>\n",
              "      <td>4.900000</td>\n",
              "      <td>2.000000</td>\n",
              "      <td>3.000000</td>\n",
              "      <td>1.000000</td>\n",
              "    </tr>\n",
              "    <tr>\n",
              "      <th>25%</th>\n",
              "      <td>5.600000</td>\n",
              "      <td>2.525000</td>\n",
              "      <td>4.000000</td>\n",
              "      <td>1.200000</td>\n",
              "    </tr>\n",
              "    <tr>\n",
              "      <th>50%</th>\n",
              "      <td>5.900000</td>\n",
              "      <td>2.800000</td>\n",
              "      <td>4.350000</td>\n",
              "      <td>1.300000</td>\n",
              "    </tr>\n",
              "    <tr>\n",
              "      <th>75%</th>\n",
              "      <td>6.300000</td>\n",
              "      <td>3.000000</td>\n",
              "      <td>4.600000</td>\n",
              "      <td>1.500000</td>\n",
              "    </tr>\n",
              "    <tr>\n",
              "      <th>max</th>\n",
              "      <td>7.000000</td>\n",
              "      <td>3.400000</td>\n",
              "      <td>5.100000</td>\n",
              "      <td>1.800000</td>\n",
              "    </tr>\n",
              "  </tbody>\n",
              "</table>\n",
              "</div>"
            ],
            "text/plain": [
              "       sepal_length  sepal_width  petal_length  petal_width\n",
              "count     50.000000    50.000000     50.000000    50.000000\n",
              "mean       5.936000     2.770000      4.260000     1.326000\n",
              "std        0.516171     0.313798      0.469911     0.197753\n",
              "min        4.900000     2.000000      3.000000     1.000000\n",
              "25%        5.600000     2.525000      4.000000     1.200000\n",
              "50%        5.900000     2.800000      4.350000     1.300000\n",
              "75%        6.300000     3.000000      4.600000     1.500000\n",
              "max        7.000000     3.400000      5.100000     1.800000"
            ]
          },
          "metadata": {
            "tags": []
          },
          "execution_count": 58
        }
      ]
    },
    {
      "metadata": {
        "id": "GwJFT2GlpwUv",
        "colab_type": "code",
        "colab": {
          "base_uri": "https://localhost:8080/",
          "height": 300
        },
        "outputId": "be3b706a-9713-46c9-bda8-fe6179142bb9"
      },
      "cell_type": "code",
      "source": [
        "versicolor.describe()"
      ],
      "execution_count": 59,
      "outputs": [
        {
          "output_type": "execute_result",
          "data": {
            "text/html": [
              "<div>\n",
              "<style scoped>\n",
              "    .dataframe tbody tr th:only-of-type {\n",
              "        vertical-align: middle;\n",
              "    }\n",
              "\n",
              "    .dataframe tbody tr th {\n",
              "        vertical-align: top;\n",
              "    }\n",
              "\n",
              "    .dataframe thead th {\n",
              "        text-align: right;\n",
              "    }\n",
              "</style>\n",
              "<table border=\"1\" class=\"dataframe\">\n",
              "  <thead>\n",
              "    <tr style=\"text-align: right;\">\n",
              "      <th></th>\n",
              "      <th>sepal_length</th>\n",
              "      <th>sepal_width</th>\n",
              "      <th>petal_length</th>\n",
              "      <th>petal_width</th>\n",
              "    </tr>\n",
              "  </thead>\n",
              "  <tbody>\n",
              "    <tr>\n",
              "      <th>count</th>\n",
              "      <td>50.00000</td>\n",
              "      <td>50.000000</td>\n",
              "      <td>50.000000</td>\n",
              "      <td>50.00000</td>\n",
              "    </tr>\n",
              "    <tr>\n",
              "      <th>mean</th>\n",
              "      <td>5.00600</td>\n",
              "      <td>3.418000</td>\n",
              "      <td>1.464000</td>\n",
              "      <td>0.24400</td>\n",
              "    </tr>\n",
              "    <tr>\n",
              "      <th>std</th>\n",
              "      <td>0.35249</td>\n",
              "      <td>0.381024</td>\n",
              "      <td>0.173511</td>\n",
              "      <td>0.10721</td>\n",
              "    </tr>\n",
              "    <tr>\n",
              "      <th>min</th>\n",
              "      <td>4.30000</td>\n",
              "      <td>2.300000</td>\n",
              "      <td>1.000000</td>\n",
              "      <td>0.10000</td>\n",
              "    </tr>\n",
              "    <tr>\n",
              "      <th>25%</th>\n",
              "      <td>4.80000</td>\n",
              "      <td>3.125000</td>\n",
              "      <td>1.400000</td>\n",
              "      <td>0.20000</td>\n",
              "    </tr>\n",
              "    <tr>\n",
              "      <th>50%</th>\n",
              "      <td>5.00000</td>\n",
              "      <td>3.400000</td>\n",
              "      <td>1.500000</td>\n",
              "      <td>0.20000</td>\n",
              "    </tr>\n",
              "    <tr>\n",
              "      <th>75%</th>\n",
              "      <td>5.20000</td>\n",
              "      <td>3.675000</td>\n",
              "      <td>1.575000</td>\n",
              "      <td>0.30000</td>\n",
              "    </tr>\n",
              "    <tr>\n",
              "      <th>max</th>\n",
              "      <td>5.80000</td>\n",
              "      <td>4.400000</td>\n",
              "      <td>1.900000</td>\n",
              "      <td>0.60000</td>\n",
              "    </tr>\n",
              "  </tbody>\n",
              "</table>\n",
              "</div>"
            ],
            "text/plain": [
              "       sepal_length  sepal_width  petal_length  petal_width\n",
              "count      50.00000    50.000000     50.000000     50.00000\n",
              "mean        5.00600     3.418000      1.464000      0.24400\n",
              "std         0.35249     0.381024      0.173511      0.10721\n",
              "min         4.30000     2.300000      1.000000      0.10000\n",
              "25%         4.80000     3.125000      1.400000      0.20000\n",
              "50%         5.00000     3.400000      1.500000      0.20000\n",
              "75%         5.20000     3.675000      1.575000      0.30000\n",
              "max         5.80000     4.400000      1.900000      0.60000"
            ]
          },
          "metadata": {
            "tags": []
          },
          "execution_count": 59
        }
      ]
    },
    {
      "metadata": {
        "id": "Ad4qhSZLpztf",
        "colab_type": "code",
        "colab": {
          "base_uri": "https://localhost:8080/",
          "height": 300
        },
        "outputId": "0c0ce71c-ea76-4dd7-ade9-32056821498e"
      },
      "cell_type": "code",
      "source": [
        "virginica.describe()"
      ],
      "execution_count": 60,
      "outputs": [
        {
          "output_type": "execute_result",
          "data": {
            "text/html": [
              "<div>\n",
              "<style scoped>\n",
              "    .dataframe tbody tr th:only-of-type {\n",
              "        vertical-align: middle;\n",
              "    }\n",
              "\n",
              "    .dataframe tbody tr th {\n",
              "        vertical-align: top;\n",
              "    }\n",
              "\n",
              "    .dataframe thead th {\n",
              "        text-align: right;\n",
              "    }\n",
              "</style>\n",
              "<table border=\"1\" class=\"dataframe\">\n",
              "  <thead>\n",
              "    <tr style=\"text-align: right;\">\n",
              "      <th></th>\n",
              "      <th>sepal_length</th>\n",
              "      <th>sepal_width</th>\n",
              "      <th>petal_length</th>\n",
              "      <th>petal_width</th>\n",
              "    </tr>\n",
              "  </thead>\n",
              "  <tbody>\n",
              "    <tr>\n",
              "      <th>count</th>\n",
              "      <td>50.00000</td>\n",
              "      <td>50.000000</td>\n",
              "      <td>50.000000</td>\n",
              "      <td>50.00000</td>\n",
              "    </tr>\n",
              "    <tr>\n",
              "      <th>mean</th>\n",
              "      <td>6.58800</td>\n",
              "      <td>2.974000</td>\n",
              "      <td>5.552000</td>\n",
              "      <td>2.02600</td>\n",
              "    </tr>\n",
              "    <tr>\n",
              "      <th>std</th>\n",
              "      <td>0.63588</td>\n",
              "      <td>0.322497</td>\n",
              "      <td>0.551895</td>\n",
              "      <td>0.27465</td>\n",
              "    </tr>\n",
              "    <tr>\n",
              "      <th>min</th>\n",
              "      <td>4.90000</td>\n",
              "      <td>2.200000</td>\n",
              "      <td>4.500000</td>\n",
              "      <td>1.40000</td>\n",
              "    </tr>\n",
              "    <tr>\n",
              "      <th>25%</th>\n",
              "      <td>6.22500</td>\n",
              "      <td>2.800000</td>\n",
              "      <td>5.100000</td>\n",
              "      <td>1.80000</td>\n",
              "    </tr>\n",
              "    <tr>\n",
              "      <th>50%</th>\n",
              "      <td>6.50000</td>\n",
              "      <td>3.000000</td>\n",
              "      <td>5.550000</td>\n",
              "      <td>2.00000</td>\n",
              "    </tr>\n",
              "    <tr>\n",
              "      <th>75%</th>\n",
              "      <td>6.90000</td>\n",
              "      <td>3.175000</td>\n",
              "      <td>5.875000</td>\n",
              "      <td>2.30000</td>\n",
              "    </tr>\n",
              "    <tr>\n",
              "      <th>max</th>\n",
              "      <td>7.90000</td>\n",
              "      <td>3.800000</td>\n",
              "      <td>6.900000</td>\n",
              "      <td>2.50000</td>\n",
              "    </tr>\n",
              "  </tbody>\n",
              "</table>\n",
              "</div>"
            ],
            "text/plain": [
              "       sepal_length  sepal_width  petal_length  petal_width\n",
              "count      50.00000    50.000000     50.000000     50.00000\n",
              "mean        6.58800     2.974000      5.552000      2.02600\n",
              "std         0.63588     0.322497      0.551895      0.27465\n",
              "min         4.90000     2.200000      4.500000      1.40000\n",
              "25%         6.22500     2.800000      5.100000      1.80000\n",
              "50%         6.50000     3.000000      5.550000      2.00000\n",
              "75%         6.90000     3.175000      5.875000      2.30000\n",
              "max         7.90000     3.800000      6.900000      2.50000"
            ]
          },
          "metadata": {
            "tags": []
          },
          "execution_count": 60
        }
      ]
    },
    {
      "metadata": {
        "id": "Vdu0ulZWtr09",
        "colab_type": "text"
      },
      "cell_type": "markdown",
      "source": [
        "#### Let's plot and see the difference"
      ]
    },
    {
      "metadata": {
        "id": "PEVMzRvpttmD",
        "colab_type": "text"
      },
      "cell_type": "markdown",
      "source": [
        "##### import matplotlib.pyplot "
      ]
    },
    {
      "metadata": {
        "id": "rqDXuuAtt7C3",
        "colab_type": "code",
        "colab": {
          "base_uri": "https://localhost:8080/",
          "height": 402
        },
        "outputId": "f9f19806-1eef-4b80-a4a8-97503a9d7217"
      },
      "cell_type": "code",
      "source": [
        "import matplotlib.pyplot as plt\n",
        "\n",
        "#hist creates a histogram there are many more plots(see the documentation) you can play with it.\n",
        "\n",
        "plt.hist(setosa['sepal_length'])\n",
        "plt.hist(versicolor['sepal_length'])\n",
        "plt.hist(virginica['sepal_length'])"
      ],
      "execution_count": 61,
      "outputs": [
        {
          "output_type": "execute_result",
          "data": {
            "text/plain": [
              "(array([ 1.,  0.,  5.,  5.,  8.,  9., 10.,  5.,  1.,  6.]),\n",
              " array([4.9, 5.2, 5.5, 5.8, 6.1, 6.4, 6.7, 7. , 7.3, 7.6, 7.9]),\n",
              " <a list of 10 Patch objects>)"
            ]
          },
          "metadata": {
            "tags": []
          },
          "execution_count": 61
        },
        {
          "output_type": "display_data",
          "data": {
            "image/png": "[encoded data removed]",
            "text/plain": [
              "<matplotlib.figure.Figure at 0x7f5b775b88d0>"
            ]
          },
          "metadata": {
            "tags": []
          }
        }
      ]
    }
  ]
}