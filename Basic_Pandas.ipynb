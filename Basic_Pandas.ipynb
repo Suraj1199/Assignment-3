{
  "nbformat": 4,
  "nbformat_minor": 0,
  "metadata": {
    "colab": {
      "name": "Basic Pandas.ipynb",
      "version": "0.3.2",
      "provenance": [],
      "include_colab_link": true
    },
    "kernelspec": {
      "name": "python3",
      "display_name": "Python 3"
    }
  },
  "cells": [
    {
      "cell_type": "markdown",
      "metadata": {
        "id": "view-in-github",
        "colab_type": "text"
      },
      "source": [
        "<a href=\"https://colab.research.google.com/github/Suraj1199/Assignment-3/blob/Suraj1199/Basic_Pandas.ipynb\" target=\"_parent\"><img src=\"https://colab.research.google.com/assets/colab-badge.svg\" alt=\"Open In Colab\"/></a>"
      ]
    },
    {
      "metadata": {
        "id": "cGbE814_Xaf9",
        "colab_type": "text"
      },
      "cell_type": "markdown",
      "source": [
        "# Pandas\n",
        "\n",
        "Pandas is an open-source, BSD-licensed Python library providing high-performance, easy-to-use data structures and data analysis tools for the Python programming language. Python with Pandas is used in a wide range of fields including academic and commercial domains including finance, economics, Statistics, analytics, etc.In this tutorial, we will learn the various features of Python Pandas and how to use them in practice.\n",
        "\n",
        "\n",
        "## Import pandas and numpy"
      ]
    },
    {
      "metadata": {
        "id": "irlVYeeAXPDL",
        "colab_type": "code",
        "colab": {}
      },
      "cell_type": "code",
      "source": [
        "import pandas as pd\n",
        "import numpy as np"
      ],
      "execution_count": 0,
      "outputs": []
    },
    {
      "metadata": {
        "id": "BI2J-zdMbGwE",
        "colab_type": "text"
      },
      "cell_type": "markdown",
      "source": [
        "### This is your playground feel free to explore other functions on pandas\n",
        "\n",
        "#### Create Series from numpy array, list and dict\n",
        "\n",
        "Don't know what a series is?\n",
        "\n",
        "[Series Doc](https://pandas.pydata.org/pandas-docs/version/0.22/generated/pandas.Series.html)"
      ]
    },
    {
      "metadata": {
        "id": "GeEct691YGE3",
        "colab_type": "code",
        "colab": {
          "base_uri": "https://localhost:8080/",
          "height": 147
        },
        "outputId": "653b2bae-581e-40d5-9272-59c98a8dabae"
      },
      "cell_type": "code",
      "source": [
        "a_ascii = ord('A')\n",
        "z_ascii = ord('Z')\n",
        "alphabets = [chr(i) for i in range(a_ascii, z_ascii+1)]\n",
        "\n",
        "print(alphabets)\n",
        "\n",
        "numbers = np.arange(26)\n",
        "\n",
        "print(numbers)\n",
        "\n",
        "print(type(alphabets), type(numbers))\n",
        "\n",
        "alpha_numbers = dict(zip(alphabets, numbers))\n",
        "\n",
        "print(alpha_numbers)\n",
        "\n",
        "print(type(alpha_numbers))"
      ],
      "execution_count": 2,
      "outputs": [
        {
          "output_type": "stream",
          "text": [
            "['A', 'B', 'C', 'D', 'E', 'F', 'G', 'H', 'I', 'J', 'K', 'L', 'M', 'N', 'O', 'P', 'Q', 'R', 'S', 'T', 'U', 'V', 'W', 'X', 'Y', 'Z']\n",
            "[ 0  1  2  3  4  5  6  7  8  9 10 11 12 13 14 15 16 17 18 19 20 21 22 23\n",
            " 24 25]\n",
            "<class 'list'> <class 'numpy.ndarray'>\n",
            "{'A': 0, 'B': 1, 'C': 2, 'D': 3, 'E': 4, 'F': 5, 'G': 6, 'H': 7, 'I': 8, 'J': 9, 'K': 10, 'L': 11, 'M': 12, 'N': 13, 'O': 14, 'P': 15, 'Q': 16, 'R': 17, 'S': 18, 'T': 19, 'U': 20, 'V': 21, 'W': 22, 'X': 23, 'Y': 24, 'Z': 25}\n",
            "<class 'dict'>\n"
          ],
          "name": "stdout"
        }
      ]
    },
    {
      "metadata": {
        "id": "6ouDfjWab_Mc",
        "colab_type": "code",
        "colab": {
          "base_uri": "https://localhost:8080/",
          "height": 513
        },
        "outputId": "32f2622a-520c-491d-83a4-df2b3d91db87"
      },
      "cell_type": "code",
      "source": [
        "series1 = pd.Series(alphabets)\n",
        "print(series1)"
      ],
      "execution_count": 3,
      "outputs": [
        {
          "output_type": "stream",
          "text": [
            "0     A\n",
            "1     B\n",
            "2     C\n",
            "3     D\n",
            "4     E\n",
            "5     F\n",
            "6     G\n",
            "7     H\n",
            "8     I\n",
            "9     J\n",
            "10    K\n",
            "11    L\n",
            "12    M\n",
            "13    N\n",
            "14    O\n",
            "15    P\n",
            "16    Q\n",
            "17    R\n",
            "18    S\n",
            "19    T\n",
            "20    U\n",
            "21    V\n",
            "22    W\n",
            "23    X\n",
            "24    Y\n",
            "25    Z\n",
            "dtype: object\n"
          ],
          "name": "stdout"
        }
      ]
    },
    {
      "metadata": {
        "id": "At7nY7vVcBZ3",
        "colab_type": "code",
        "colab": {
          "base_uri": "https://localhost:8080/",
          "height": 513
        },
        "outputId": "15f96b97-8f3c-493d-ce41-6a1f89c93178"
      },
      "cell_type": "code",
      "source": [
        "series2 = pd.Series(numbers)\n",
        "print(series2)"
      ],
      "execution_count": 4,
      "outputs": [
        {
          "output_type": "stream",
          "text": [
            "0      0\n",
            "1      1\n",
            "2      2\n",
            "3      3\n",
            "4      4\n",
            "5      5\n",
            "6      6\n",
            "7      7\n",
            "8      8\n",
            "9      9\n",
            "10    10\n",
            "11    11\n",
            "12    12\n",
            "13    13\n",
            "14    14\n",
            "15    15\n",
            "16    16\n",
            "17    17\n",
            "18    18\n",
            "19    19\n",
            "20    20\n",
            "21    21\n",
            "22    22\n",
            "23    23\n",
            "24    24\n",
            "25    25\n",
            "dtype: int64\n"
          ],
          "name": "stdout"
        }
      ]
    },
    {
      "metadata": {
        "id": "J5z-2CWAdH6N",
        "colab_type": "code",
        "colab": {
          "base_uri": "https://localhost:8080/",
          "height": 513
        },
        "outputId": "09c3f4d7-a6c3-43a0-f016-23e19c12c112"
      },
      "cell_type": "code",
      "source": [
        "series3 = pd.Series(alpha_numbers)\n",
        "print(series3)"
      ],
      "execution_count": 5,
      "outputs": [
        {
          "output_type": "stream",
          "text": [
            "A     0\n",
            "B     1\n",
            "C     2\n",
            "D     3\n",
            "E     4\n",
            "F     5\n",
            "G     6\n",
            "H     7\n",
            "I     8\n",
            "J     9\n",
            "K    10\n",
            "L    11\n",
            "M    12\n",
            "N    13\n",
            "O    14\n",
            "P    15\n",
            "Q    16\n",
            "R    17\n",
            "S    18\n",
            "T    19\n",
            "U    20\n",
            "V    21\n",
            "W    22\n",
            "X    23\n",
            "Y    24\n",
            "Z    25\n",
            "dtype: int64\n"
          ],
          "name": "stdout"
        }
      ]
    },
    {
      "metadata": {
        "id": "fYzblGGudKjO",
        "colab_type": "code",
        "colab": {
          "base_uri": "https://localhost:8080/",
          "height": 127
        },
        "outputId": "3582798a-b856-4a4d-b1e6-69088bc33d8c"
      },
      "cell_type": "code",
      "source": [
        "#replace head() with head(n) where n can be any number between [0-25] and observe the output in deach case \n",
        "series3.head()"
      ],
      "execution_count": 11,
      "outputs": [
        {
          "output_type": "execute_result",
          "data": {
            "text/plain": [
              "A    0\n",
              "B    1\n",
              "C    2\n",
              "D    3\n",
              "E    4\n",
              "dtype: int64"
            ]
          },
          "metadata": {
            "tags": []
          },
          "execution_count": 11
        }
      ]
    },
    {
      "metadata": {
        "id": "OwsJIf5feTtg",
        "colab_type": "text"
      },
      "cell_type": "markdown",
      "source": [
        "#### Create DataFrame from lists\n",
        "\n",
        "[DataFrame Doc](https://pandas.pydata.org/pandas-docs/stable/generated/pandas.DataFrame.html)"
      ]
    },
    {
      "metadata": {
        "id": "73UTZ07EdWki",
        "colab_type": "code",
        "colab": {
          "base_uri": "https://localhost:8080/",
          "height": 865
        },
        "outputId": "232e32b0-b5db-4f81-d1cc-ec139e0cb5b6"
      },
      "cell_type": "code",
      "source": [
        "data = {'alphabets': alphabets, 'alpha_numbers': numbers}\n",
        "\n",
        "df = pd.DataFrame(data)\n",
        "\n",
        "#Lets Change the column `values` to `alpha_numbers`\n",
        "\n",
        "#df.columns = ['alphabets', 'alpha_numbers']\n",
        "\n",
        "df"
      ],
      "execution_count": 17,
      "outputs": [
        {
          "output_type": "execute_result",
          "data": {
            "text/html": [
              "<div>\n",
              "<style scoped>\n",
              "    .dataframe tbody tr th:only-of-type {\n",
              "        vertical-align: middle;\n",
              "    }\n",
              "\n",
              "    .dataframe tbody tr th {\n",
              "        vertical-align: top;\n",
              "    }\n",
              "\n",
              "    .dataframe thead th {\n",
              "        text-align: right;\n",
              "    }\n",
              "</style>\n",
              "<table border=\"1\" class=\"dataframe\">\n",
              "  <thead>\n",
              "    <tr style=\"text-align: right;\">\n",
              "      <th></th>\n",
              "      <th>alphabets</th>\n",
              "      <th>alpha_numbers</th>\n",
              "    </tr>\n",
              "  </thead>\n",
              "  <tbody>\n",
              "    <tr>\n",
              "      <th>0</th>\n",
              "      <td>0</td>\n",
              "      <td>A</td>\n",
              "    </tr>\n",
              "    <tr>\n",
              "      <th>1</th>\n",
              "      <td>1</td>\n",
              "      <td>B</td>\n",
              "    </tr>\n",
              "    <tr>\n",
              "      <th>2</th>\n",
              "      <td>2</td>\n",
              "      <td>C</td>\n",
              "    </tr>\n",
              "    <tr>\n",
              "      <th>3</th>\n",
              "      <td>3</td>\n",
              "      <td>D</td>\n",
              "    </tr>\n",
              "    <tr>\n",
              "      <th>4</th>\n",
              "      <td>4</td>\n",
              "      <td>E</td>\n",
              "    </tr>\n",
              "    <tr>\n",
              "      <th>5</th>\n",
              "      <td>5</td>\n",
              "      <td>F</td>\n",
              "    </tr>\n",
              "    <tr>\n",
              "      <th>6</th>\n",
              "      <td>6</td>\n",
              "      <td>G</td>\n",
              "    </tr>\n",
              "    <tr>\n",
              "      <th>7</th>\n",
              "      <td>7</td>\n",
              "      <td>H</td>\n",
              "    </tr>\n",
              "    <tr>\n",
              "      <th>8</th>\n",
              "      <td>8</td>\n",
              "      <td>I</td>\n",
              "    </tr>\n",
              "    <tr>\n",
              "      <th>9</th>\n",
              "      <td>9</td>\n",
              "      <td>J</td>\n",
              "    </tr>\n",
              "    <tr>\n",
              "      <th>10</th>\n",
              "      <td>10</td>\n",
              "      <td>K</td>\n",
              "    </tr>\n",
              "    <tr>\n",
              "      <th>11</th>\n",
              "      <td>11</td>\n",
              "      <td>L</td>\n",
              "    </tr>\n",
              "    <tr>\n",
              "      <th>12</th>\n",
              "      <td>12</td>\n",
              "      <td>M</td>\n",
              "    </tr>\n",
              "    <tr>\n",
              "      <th>13</th>\n",
              "      <td>13</td>\n",
              "      <td>N</td>\n",
              "    </tr>\n",
              "    <tr>\n",
              "      <th>14</th>\n",
              "      <td>14</td>\n",
              "      <td>O</td>\n",
              "    </tr>\n",
              "    <tr>\n",
              "      <th>15</th>\n",
              "      <td>15</td>\n",
              "      <td>P</td>\n",
              "    </tr>\n",
              "    <tr>\n",
              "      <th>16</th>\n",
              "      <td>16</td>\n",
              "      <td>Q</td>\n",
              "    </tr>\n",
              "    <tr>\n",
              "      <th>17</th>\n",
              "      <td>17</td>\n",
              "      <td>R</td>\n",
              "    </tr>\n",
              "    <tr>\n",
              "      <th>18</th>\n",
              "      <td>18</td>\n",
              "      <td>S</td>\n",
              "    </tr>\n",
              "    <tr>\n",
              "      <th>19</th>\n",
              "      <td>19</td>\n",
              "      <td>T</td>\n",
              "    </tr>\n",
              "    <tr>\n",
              "      <th>20</th>\n",
              "      <td>20</td>\n",
              "      <td>U</td>\n",
              "    </tr>\n",
              "    <tr>\n",
              "      <th>21</th>\n",
              "      <td>21</td>\n",
              "      <td>V</td>\n",
              "    </tr>\n",
              "    <tr>\n",
              "      <th>22</th>\n",
              "      <td>22</td>\n",
              "      <td>W</td>\n",
              "    </tr>\n",
              "    <tr>\n",
              "      <th>23</th>\n",
              "      <td>23</td>\n",
              "      <td>X</td>\n",
              "    </tr>\n",
              "    <tr>\n",
              "      <th>24</th>\n",
              "      <td>24</td>\n",
              "      <td>Y</td>\n",
              "    </tr>\n",
              "    <tr>\n",
              "      <th>25</th>\n",
              "      <td>25</td>\n",
              "      <td>Z</td>\n",
              "    </tr>\n",
              "  </tbody>\n",
              "</table>\n",
              "</div>"
            ],
            "text/plain": [
              "    alphabets alpha_numbers\n",
              "0           0             A\n",
              "1           1             B\n",
              "2           2             C\n",
              "3           3             D\n",
              "4           4             E\n",
              "5           5             F\n",
              "6           6             G\n",
              "7           7             H\n",
              "8           8             I\n",
              "9           9             J\n",
              "10         10             K\n",
              "11         11             L\n",
              "12         12             M\n",
              "13         13             N\n",
              "14         14             O\n",
              "15         15             P\n",
              "16         16             Q\n",
              "17         17             R\n",
              "18         18             S\n",
              "19         19             T\n",
              "20         20             U\n",
              "21         21             V\n",
              "22         22             W\n",
              "23         23             X\n",
              "24         24             Y\n",
              "25         25             Z"
            ]
          },
          "metadata": {
            "tags": []
          },
          "execution_count": 17
        }
      ]
    },
    {
      "metadata": {
        "id": "uaK_1EO9etGS",
        "colab_type": "code",
        "colab": {
          "base_uri": "https://localhost:8080/",
          "height": 141
        },
        "outputId": "47ae3d31-7068-44ce-ae57-d5cfb240d84e"
      },
      "cell_type": "code",
      "source": [
        "# transpose\n",
        "\n",
        "df.T\n",
        "\n",
        "# there are many more operations which we can perform look at the documentation with the subsequent exercises we will learn more"
      ],
      "execution_count": 18,
      "outputs": [
        {
          "output_type": "execute_result",
          "data": {
            "text/html": [
              "<div>\n",
              "<style scoped>\n",
              "    .dataframe tbody tr th:only-of-type {\n",
              "        vertical-align: middle;\n",
              "    }\n",
              "\n",
              "    .dataframe tbody tr th {\n",
              "        vertical-align: top;\n",
              "    }\n",
              "\n",
              "    .dataframe thead th {\n",
              "        text-align: right;\n",
              "    }\n",
              "</style>\n",
              "<table border=\"1\" class=\"dataframe\">\n",
              "  <thead>\n",
              "    <tr style=\"text-align: right;\">\n",
              "      <th></th>\n",
              "      <th>0</th>\n",
              "      <th>1</th>\n",
              "      <th>2</th>\n",
              "      <th>3</th>\n",
              "      <th>4</th>\n",
              "      <th>5</th>\n",
              "      <th>6</th>\n",
              "      <th>7</th>\n",
              "      <th>8</th>\n",
              "      <th>9</th>\n",
              "      <th>...</th>\n",
              "      <th>16</th>\n",
              "      <th>17</th>\n",
              "      <th>18</th>\n",
              "      <th>19</th>\n",
              "      <th>20</th>\n",
              "      <th>21</th>\n",
              "      <th>22</th>\n",
              "      <th>23</th>\n",
              "      <th>24</th>\n",
              "      <th>25</th>\n",
              "    </tr>\n",
              "  </thead>\n",
              "  <tbody>\n",
              "    <tr>\n",
              "      <th>alphabets</th>\n",
              "      <td>0</td>\n",
              "      <td>1</td>\n",
              "      <td>2</td>\n",
              "      <td>3</td>\n",
              "      <td>4</td>\n",
              "      <td>5</td>\n",
              "      <td>6</td>\n",
              "      <td>7</td>\n",
              "      <td>8</td>\n",
              "      <td>9</td>\n",
              "      <td>...</td>\n",
              "      <td>16</td>\n",
              "      <td>17</td>\n",
              "      <td>18</td>\n",
              "      <td>19</td>\n",
              "      <td>20</td>\n",
              "      <td>21</td>\n",
              "      <td>22</td>\n",
              "      <td>23</td>\n",
              "      <td>24</td>\n",
              "      <td>25</td>\n",
              "    </tr>\n",
              "    <tr>\n",
              "      <th>alpha_numbers</th>\n",
              "      <td>A</td>\n",
              "      <td>B</td>\n",
              "      <td>C</td>\n",
              "      <td>D</td>\n",
              "      <td>E</td>\n",
              "      <td>F</td>\n",
              "      <td>G</td>\n",
              "      <td>H</td>\n",
              "      <td>I</td>\n",
              "      <td>J</td>\n",
              "      <td>...</td>\n",
              "      <td>Q</td>\n",
              "      <td>R</td>\n",
              "      <td>S</td>\n",
              "      <td>T</td>\n",
              "      <td>U</td>\n",
              "      <td>V</td>\n",
              "      <td>W</td>\n",
              "      <td>X</td>\n",
              "      <td>Y</td>\n",
              "      <td>Z</td>\n",
              "    </tr>\n",
              "  </tbody>\n",
              "</table>\n",
              "<p>2 rows × 26 columns</p>\n",
              "</div>"
            ],
            "text/plain": [
              "              0  1  2  3  4  5  6  7  8  9  ...  16  17  18  19  20  21  22  \\\n",
              "alphabets      0  1  2  3  4  5  6  7  8  9 ...  16  17  18  19  20  21  22   \n",
              "alpha_numbers  A  B  C  D  E  F  G  H  I  J ...   Q   R   S   T   U   V   W   \n",
              "\n",
              "               23  24  25  \n",
              "alphabets      23  24  25  \n",
              "alpha_numbers   X   Y   Z  \n",
              "\n",
              "[2 rows x 26 columns]"
            ]
          },
          "metadata": {
            "tags": []
          },
          "execution_count": 18
        }
      ]
    },
    {
      "metadata": {
        "id": "ZYonoaW8gEAJ",
        "colab_type": "text"
      },
      "cell_type": "markdown",
      "source": [
        "#### Extract Items from a series"
      ]
    },
    {
      "metadata": {
        "id": "tc1-KX_Bfe7U",
        "colab_type": "code",
        "colab": {
          "base_uri": "https://localhost:8080/",
          "height": 206
        },
        "outputId": "cc0bdceb-e13e-48e4-abba-8160150dc400"
      },
      "cell_type": "code",
      "source": [
        "ser = pd.Series(list('abcdefghijklmnopqrstuvwxyz'))\n",
        "pos = [0, 4, 8, 14, 20]\n",
        "\n",
        "vowels = ser.take(pos)\n",
        "\n",
        "df = pd.DataFrame(vowels)#, columns=['vowels'])\n",
        "\n",
        "df.columns = ['vowels']\n",
        "\n",
        "df.index = [0, 1, 2, 3, 4]\n",
        "\n",
        "df"
      ],
      "execution_count": 21,
      "outputs": [
        {
          "output_type": "execute_result",
          "data": {
            "text/html": [
              "<div>\n",
              "<style scoped>\n",
              "    .dataframe tbody tr th:only-of-type {\n",
              "        vertical-align: middle;\n",
              "    }\n",
              "\n",
              "    .dataframe tbody tr th {\n",
              "        vertical-align: top;\n",
              "    }\n",
              "\n",
              "    .dataframe thead th {\n",
              "        text-align: right;\n",
              "    }\n",
              "</style>\n",
              "<table border=\"1\" class=\"dataframe\">\n",
              "  <thead>\n",
              "    <tr style=\"text-align: right;\">\n",
              "      <th></th>\n",
              "      <th>vowels</th>\n",
              "    </tr>\n",
              "  </thead>\n",
              "  <tbody>\n",
              "    <tr>\n",
              "      <th>0</th>\n",
              "      <td>a</td>\n",
              "    </tr>\n",
              "    <tr>\n",
              "      <th>1</th>\n",
              "      <td>e</td>\n",
              "    </tr>\n",
              "    <tr>\n",
              "      <th>2</th>\n",
              "      <td>i</td>\n",
              "    </tr>\n",
              "    <tr>\n",
              "      <th>3</th>\n",
              "      <td>o</td>\n",
              "    </tr>\n",
              "    <tr>\n",
              "      <th>4</th>\n",
              "      <td>u</td>\n",
              "    </tr>\n",
              "  </tbody>\n",
              "</table>\n",
              "</div>"
            ],
            "text/plain": [
              "  vowels\n",
              "0      a\n",
              "1      e\n",
              "2      i\n",
              "3      o\n",
              "4      u"
            ]
          },
          "metadata": {
            "tags": []
          },
          "execution_count": 21
        }
      ]
    },
    {
      "metadata": {
        "id": "cmDxwtDNjWpO",
        "colab_type": "text"
      },
      "cell_type": "markdown",
      "source": [
        "#### Change the first character of each word to upper case in each word of ser"
      ]
    },
    {
      "metadata": {
        "id": "5KagP9PpgV2F",
        "colab_type": "code",
        "outputId": "2348c4f3-cd21-450e-c4a0-c0883997b800",
        "colab": {
          "base_uri": "https://localhost:8080/",
          "height": 35
        }
      },
      "cell_type": "code",
      "source": [
        "ser = pd.Series(['we', 'are', 'learning', 'pandas'])\n",
        "\n",
        "ser.map(lambda x : x.title())\n",
        "\n",
        "titles = [i.title() for i in ser]\n",
        "\n",
        "titles"
      ],
      "execution_count": 0,
      "outputs": [
        {
          "output_type": "execute_result",
          "data": {
            "text/plain": [
              "['We', 'Are', 'Learning', 'Pandas']"
            ]
          },
          "metadata": {
            "tags": []
          },
          "execution_count": 2
        }
      ]
    },
    {
      "metadata": {
        "id": "qn47ee-MkZN8",
        "colab_type": "text"
      },
      "cell_type": "markdown",
      "source": [
        "#### Reindexing"
      ]
    },
    {
      "metadata": {
        "id": "h5R0JL2NjuFS",
        "colab_type": "code",
        "colab": {
          "base_uri": "https://localhost:8080/",
          "height": 206
        },
        "outputId": "ac742085-6f61-40fb-ce39-06868d0a2773"
      },
      "cell_type": "code",
      "source": [
        "my_index = [1, 2, 3, 4, 5]\n",
        "\n",
        "df1 = pd.DataFrame({'upper values': ['A', 'B', 'C', 'D', 'E'],\n",
        "                   'lower values': ['a', 'b', 'c', 'd', 'e']},\n",
        "                  index = my_index)\n",
        "\n",
        "df1"
      ],
      "execution_count": 23,
      "outputs": [
        {
          "output_type": "execute_result",
          "data": {
            "text/html": [
              "<div>\n",
              "<style scoped>\n",
              "    .dataframe tbody tr th:only-of-type {\n",
              "        vertical-align: middle;\n",
              "    }\n",
              "\n",
              "    .dataframe tbody tr th {\n",
              "        vertical-align: top;\n",
              "    }\n",
              "\n",
              "    .dataframe thead th {\n",
              "        text-align: right;\n",
              "    }\n",
              "</style>\n",
              "<table border=\"1\" class=\"dataframe\">\n",
              "  <thead>\n",
              "    <tr style=\"text-align: right;\">\n",
              "      <th></th>\n",
              "      <th>lower values</th>\n",
              "      <th>upper values</th>\n",
              "    </tr>\n",
              "  </thead>\n",
              "  <tbody>\n",
              "    <tr>\n",
              "      <th>1</th>\n",
              "      <td>a</td>\n",
              "      <td>A</td>\n",
              "    </tr>\n",
              "    <tr>\n",
              "      <th>2</th>\n",
              "      <td>b</td>\n",
              "      <td>B</td>\n",
              "    </tr>\n",
              "    <tr>\n",
              "      <th>3</th>\n",
              "      <td>c</td>\n",
              "      <td>C</td>\n",
              "    </tr>\n",
              "    <tr>\n",
              "      <th>4</th>\n",
              "      <td>d</td>\n",
              "      <td>D</td>\n",
              "    </tr>\n",
              "    <tr>\n",
              "      <th>5</th>\n",
              "      <td>e</td>\n",
              "      <td>E</td>\n",
              "    </tr>\n",
              "  </tbody>\n",
              "</table>\n",
              "</div>"
            ],
            "text/plain": [
              "  lower values upper values\n",
              "1            a            A\n",
              "2            b            B\n",
              "3            c            C\n",
              "4            d            D\n",
              "5            e            E"
            ]
          },
          "metadata": {
            "tags": []
          },
          "execution_count": 23
        }
      ]
    },
    {
      "metadata": {
        "id": "G_Frvc3mk93k",
        "colab_type": "code",
        "colab": {
          "base_uri": "https://localhost:8080/",
          "height": 206
        },
        "outputId": "1cf4c41a-2ef6-490a-ee59-586c54518b79"
      },
      "cell_type": "code",
      "source": [
        "new_index = [2, 5, 4, 3, 1]\n",
        "\n",
        "df1.reindex(index = new_index)"
      ],
      "execution_count": 24,
      "outputs": [
        {
          "output_type": "execute_result",
          "data": {
            "text/html": [
              "<div>\n",
              "<style scoped>\n",
              "    .dataframe tbody tr th:only-of-type {\n",
              "        vertical-align: middle;\n",
              "    }\n",
              "\n",
              "    .dataframe tbody tr th {\n",
              "        vertical-align: top;\n",
              "    }\n",
              "\n",
              "    .dataframe thead th {\n",
              "        text-align: right;\n",
              "    }\n",
              "</style>\n",
              "<table border=\"1\" class=\"dataframe\">\n",
              "  <thead>\n",
              "    <tr style=\"text-align: right;\">\n",
              "      <th></th>\n",
              "      <th>lower values</th>\n",
              "      <th>upper values</th>\n",
              "    </tr>\n",
              "  </thead>\n",
              "  <tbody>\n",
              "    <tr>\n",
              "      <th>2</th>\n",
              "      <td>b</td>\n",
              "      <td>B</td>\n",
              "    </tr>\n",
              "    <tr>\n",
              "      <th>5</th>\n",
              "      <td>e</td>\n",
              "      <td>E</td>\n",
              "    </tr>\n",
              "    <tr>\n",
              "      <th>4</th>\n",
              "      <td>d</td>\n",
              "      <td>D</td>\n",
              "    </tr>\n",
              "    <tr>\n",
              "      <th>3</th>\n",
              "      <td>c</td>\n",
              "      <td>C</td>\n",
              "    </tr>\n",
              "    <tr>\n",
              "      <th>1</th>\n",
              "      <td>a</td>\n",
              "      <td>A</td>\n",
              "    </tr>\n",
              "  </tbody>\n",
              "</table>\n",
              "</div>"
            ],
            "text/plain": [
              "  lower values upper values\n",
              "2            b            B\n",
              "5            e            E\n",
              "4            d            D\n",
              "3            c            C\n",
              "1            a            A"
            ]
          },
          "metadata": {
            "tags": []
          },
          "execution_count": 24
        }
      ]
    }
  ]
}